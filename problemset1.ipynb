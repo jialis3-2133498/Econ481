{
 "cells": [
  {
   "cell_type": "code",
   "execution_count": 2,
   "id": "53e6153a-2fa3-467a-bff6-28c3e0d7dd1b",
   "metadata": {},
   "outputs": [],
   "source": [
    "# Exercise 0\n",
    "def github() -> str:\n",
    "    \"\"\"\n",
    "    The following code is the URL to my github file for the problem set 1\n",
    "    \"\"\"\n",
    "    return \"https://github.com/jialis3-2133498/Econ481_ProblemSet1.git\""
   ]
  },
  {
   "cell_type": "code",
   "execution_count": 3,
   "id": "aee7c730-46cd-41fc-82d2-27d996af2dd2",
   "metadata": {},
   "outputs": [],
   "source": [
    "import numpy as np"
   ]
  },
  {
   "cell_type": "code",
   "execution_count": 4,
   "id": "edde2ffe-592a-4f05-9ef4-eb06524ed5a5",
   "metadata": {},
   "outputs": [],
   "source": [
    "import pandas as pd"
   ]
  },
  {
   "cell_type": "code",
   "execution_count": 5,
   "id": "1fcc8a74-cea2-4071-a9f7-a7d7d77df8aa",
   "metadata": {},
   "outputs": [],
   "source": [
    "import scipy as sp"
   ]
  },
  {
   "cell_type": "code",
   "execution_count": 6,
   "id": "d99bc4d4-b0a4-4651-a9f8-0f2aa107cb38",
   "metadata": {},
   "outputs": [],
   "source": [
    "import matplotlib as mp"
   ]
  },
  {
   "cell_type": "code",
   "execution_count": 7,
   "id": "2d651e13-8ee8-4699-b823-52aa46814283",
   "metadata": {},
   "outputs": [],
   "source": [
    "import seaborn as sb"
   ]
  },
  {
   "cell_type": "code",
   "execution_count": 50,
   "id": "4cf4d764-ed92-4cee-9fc1-483a2f249c8f",
   "metadata": {},
   "outputs": [
    {
     "data": {
      "text/plain": [
       "{'evens': 12, 'odds': 16}"
      ]
     },
     "execution_count": 50,
     "metadata": {},
     "output_type": "execute_result"
    }
   ],
   "source": [
    "# Exercis 1 Even-Odds\n",
    "def evens_and_odds(n : int) -> dict:\n",
    "    \"\"\"\n",
    "    This function is to add up all evens in the range of n, and all odds in the range of n\n",
    "    \"\"\"\n",
    "    myran = range(n)\n",
    "    even = 0\n",
    "    odd = 1\n",
    "    evens = []\n",
    "    odds = []\n",
    "    for n in myran:\n",
    "        if n % 2 == 0:\n",
    "            evens.append(n)\n",
    "        else:\n",
    "            odds.append(n)\n",
    "        even_sum = sum(evens)\n",
    "        odd_sum = sum(odds)\n",
    "    return {'evens': even_sum, 'odds': odd_sum}\n",
    "#answer = {'evens:' + even, 'odds:' + odd}\n",
    "evens_and_odds(8)"
   ]
  },
  {
   "cell_type": "code",
   "execution_count": 31,
   "id": "8ab856d6-c508-49b5-b7e4-45cfd857f278",
   "metadata": {},
   "outputs": [
    {
     "data": {
      "text/plain": [
       "'There are 7 days between two days'"
      ]
     },
     "execution_count": 31,
     "metadata": {},
     "output_type": "execute_result"
    }
   ],
   "source": [
    "# Exercis 3 \n",
    "from typing import Union\n",
    "import datetime\n",
    "from datetime import datetime, date, time, timedelta \n",
    "def time_diff(date_1: str, date_2: str, k: str) -> Union[str,float]:\n",
    "    \"\"\"\n",
    "    This function is to tell the time difference between two input dates according to \n",
    "    their types. If the third input is a float, the output will be an integer. Otherwise, it will\n",
    "    output a string.\n",
    "    \"\"\"\n",
    "    date2 = datetime.strptime(date_2, \"%Y-%m-%d\")\n",
    "    dateTwo = datetime.date(date2)\n",
    "    date1 = datetime.strptime(date_1, \"%Y-%m-%d\")\n",
    "    dateOne = datetime.date(date1)\n",
    "    timediff = abs(dateTwo - dateOne).days\n",
    "    if k == 'string':\n",
    "        \n",
    "        return f\"There are {timediff} days between two days\"\n",
    "    else:\n",
    "        return timediff\n",
    "   \n",
    "time_diff('2022-09-01', '2022-09-08', 'float')\n",
    "time_diff('2022-09-01', '2022-09-08', 'string')"
   ]
  },
  {
   "cell_type": "code",
   "execution_count": 50,
   "id": "16acfc4d-46fe-4224-b800-1804351ad311",
   "metadata": {},
   "outputs": [
    {
     "data": {
      "text/plain": [
       "['c', 'b', 'a']"
      ]
     },
     "execution_count": 50,
     "metadata": {},
     "output_type": "execute_result"
    }
   ],
   "source": [
    "# Exercis 4 \n",
    "def reverse(in_list: list) -> list:\n",
    "    \"\"\"\n",
    "    This function will reverse the order of elements and output a new list with reversed order.\n",
    "    \"\"\"\n",
    "    n = len(in_list)\n",
    "    i = range(n-1, -1, -1) # if n is 3, then i will be 2, 1, 0, -1 will be excluded automatically. \n",
    "    re_list = []\n",
    "    for k in i:\n",
    "            re_list.append(in_list[k])\n",
    "        \n",
    "\n",
    "    return re_list\n",
    "reverse(['a', 'b', 'c'])\n"
   ]
  },
  {
   "cell_type": "code",
   "execution_count": 26,
   "id": "b66c1aed-1253-4ad9-b188-4d890feb29d2",
   "metadata": {},
   "outputs": [
    {
     "data": {
      "text/plain": [
       "0.5"
      ]
     },
     "execution_count": 26,
     "metadata": {},
     "output_type": "execute_result"
    }
   ],
   "source": [
    "# Exercis 5\n",
    "def prob_k_heads(n: int, k: int) -> float:\n",
    "    \"\"\"\n",
    "    This function will output the probability of k from n\n",
    "    \"\"\"\n",
    "    ram_n = range(1, n+1)\n",
    "    mynum_n = 1\n",
    "    for i in ram_n:\n",
    "        mynum_n = mynum_n * i\n",
    "        \n",
    "    ram_k = range(1, k+1)\n",
    "    mynum_k = 1\n",
    "    for i in ram_k:\n",
    "        mynum_k = mynum_k * i\n",
    "        \n",
    "    ram_nk = range(1, n-k+1)\n",
    "    mynum_nk = 1\n",
    "    for i in ram_nk:\n",
    "        mynum_nk = mynum_nk * i\n",
    "\n",
    "\n",
    "\n",
    "    p = 0.5\n",
    "    q = 0.5\n",
    "    answer1 = mynum_n / (mynum_k * mynum_nk)\n",
    "    answer2 = answer1 * (p**k) * (q**(n-k))\n",
    "        \n",
    "\n",
    "    return answer2\n",
    "prob_k_heads(1, 1)\n",
    "\n",
    "#Q2, when I use i for all loops, I will get the right answer, but if I use I, j, k in the loop, I will get the wrong answer. \n"
   ]
  },
  {
   "cell_type": "code",
   "execution_count": null,
   "id": "025e98af-3f36-4f67-bf50-2471646f5c6c",
   "metadata": {},
   "outputs": [],
   "source": []
  }
 ],
 "metadata": {
  "kernelspec": {
   "display_name": "Python 3 (ipykernel)",
   "language": "python",
   "name": "python3"
  },
  "language_info": {
   "codemirror_mode": {
    "name": "ipython",
    "version": 3
   },
   "file_extension": ".py",
   "mimetype": "text/x-python",
   "name": "python",
   "nbconvert_exporter": "python",
   "pygments_lexer": "ipython3",
   "version": "3.10.13"
  }
 },
 "nbformat": 4,
 "nbformat_minor": 5
}
